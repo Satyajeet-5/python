{
 "cells": [
  {
   "cell_type": "code",
   "execution_count": 1,
   "id": "77c889aa-72a3-4227-acb3-ea515557dfdb",
   "metadata": {},
   "outputs": [
    {
     "name": "stdin",
     "output_type": "stream",
     "text": [
      "enter first number 3\n",
      "enter second number 4\n"
     ]
    },
    {
     "name": "stdout",
     "output_type": "stream",
     "text": [
      "Addition: 7\n",
      "Subtraction: -1\n",
      "Multiplication: 12\n",
      "Division: 0.75\n",
      "Modulus: 3\n",
      "Exponent: 81\n",
      "Floor Division: 0\n"
     ]
    }
   ],
   "source": [
    "#Q1) write a program for arithmetic operators\n",
    "num1 = int(input(\"enter first number\"))\n",
    "num2 = int(input(\"enter second number\"))\n",
    "print(\"Addition:\", num1 + num2)\n",
    "print(\"Subtraction:\", num1 - num2)\n",
    "print(\"Multiplication:\", num1 * num2)\n",
    "print(\"Division:\", num1 / num2)\n",
    "print(\"Modulus:\", num1 % num2)\n",
    "print(\"Exponent:\", num1 ** num2)\n",
    "print(\"Floor Division:\", num1 // num2)"
   ]
  },
  {
   "cell_type": "code",
   "execution_count": 5,
   "id": "b3de2e37-78cd-4391-bc93-3be82cf3df9e",
   "metadata": {},
   "outputs": [
    {
     "name": "stdin",
     "output_type": "stream",
     "text": [
      "enter a number 5\n"
     ]
    },
    {
     "name": "stdout",
     "output_type": "stream",
     "text": [
      "using = : 5\n",
      "using +=1 : 6\n",
      "using -=2 : 4\n",
      "using *=3 : 12\n",
      "using /=4 : 3.0\n",
      "using %=5 : 3.0\n",
      "using **=6 : 729.0\n",
      "using //=7 : 104.0\n"
     ]
    }
   ],
   "source": [
    "#Q2) write a program for assignment operators\n",
    "num = int(input(\"enter a number\"))\n",
    "print(\"using = :\", num)\n",
    "num += 1\n",
    "print(\"using +=1 :\", num)\n",
    "num -= 2\n",
    "print(\"using -=2 :\", num)\n",
    "num *= 3\n",
    "print(\"using *=3 :\", num)\n",
    "num /= 4\n",
    "print(\"using /=4 :\", num)\n",
    "num %= 5\n",
    "print(\"using %=5 :\", num)\n",
    "num **= 6\n",
    "print(\"using **=6 :\", num)\n",
    "num //= 7\n",
    "print(\"using //=7 :\", num)"
   ]
  },
  {
   "cell_type": "code",
   "execution_count": 8,
   "id": "48f74145-85d5-49b6-bacf-7f567f37a5d2",
   "metadata": {},
   "outputs": [
    {
     "name": "stdin",
     "output_type": "stream",
     "text": [
      "enter first number 5\n",
      "enter second number 10\n"
     ]
    },
    {
     "name": "stdout",
     "output_type": "stream",
     "text": [
      "AND: 0\n",
      "OR: 15\n",
      "XOR: 15\n",
      "NOT: -6\n",
      "Left Shift: 10\n",
      "Right Shift: 2\n"
     ]
    }
   ],
   "source": [
    "#Q3) write a program for bitwise operators\n",
    "num1 = int(input(\"enter first number\")) #5: 0101\n",
    "num2 = int(input(\"enter second number\")) #10 :1010\n",
    "print(\"AND:\", num1 & num2)\n",
    "print(\"OR:\", num1 | num2)\n",
    "print(\"XOR:\", num1 ^ num2)\n",
    "print(\"NOT:\", ~num1)\n",
    "print(\"Left Shift:\", num1 << 1)\n",
    "print(\"Right Shift:\", num1 >> 1)"
   ]
  },
  {
   "cell_type": "code",
   "execution_count": 9,
   "id": "283a53d0-3bb9-42da-a878-0d1b413ff033",
   "metadata": {},
   "outputs": [
    {
     "name": "stdin",
     "output_type": "stream",
     "text": [
      "enter first number 6\n",
      "enter second number 5\n",
      "enter third number 7\n"
     ]
    },
    {
     "name": "stdout",
     "output_type": "stream",
     "text": [
      "largest number is 7\n"
     ]
    }
   ],
   "source": [
    "#Q4) write a program to calculate greatest of three number\n",
    "num1=int(input(\"enter first number\"))\n",
    "num2=int(input(\"enter second number\"))\n",
    "num3=int(input(\"enter third number\"))\n",
    "if num1 < num2:\n",
    "    num1 = num2\n",
    "if num1 < num3:\n",
    "    num1 = num3\n",
    "print(\"largest number is\",num1)"
   ]
  },
  {
   "cell_type": "code",
   "execution_count": 12,
   "id": "37b4ed48-1a13-4368-8259-5cf3b235de21",
   "metadata": {},
   "outputs": [
    {
     "name": "stdin",
     "output_type": "stream",
     "text": [
      "enter the radius  2\n"
     ]
    },
    {
     "name": "stdout",
     "output_type": "stream",
     "text": [
      "PI : 3.142857142857143\n",
      "radius*raius: 4.0\n",
      "area : 12.571428571428571\n"
     ]
    }
   ],
   "source": [
    "#Q5) write a program to calculate the area of circle\n",
    "radius=float(input(\"enter the radius \"))\n",
    "PI = 22/7\n",
    "area = PI * radius**2\n",
    "print(\"PI :\",PI)\n",
    "print(\"radius*raius:\",radius**2)\n",
    "print(\"area of circle:\",area)"
   ]
  },
  {
   "cell_type": "code",
   "execution_count": 13,
   "id": "49d67c0f-b3c4-4be1-8cd8-f3a4129cb3e6",
   "metadata": {},
   "outputs": [
    {
     "name": "stdin",
     "output_type": "stream",
     "text": [
      "enter base:  5\n",
      "enter height:  5\n"
     ]
    },
    {
     "name": "stdout",
     "output_type": "stream",
     "text": [
      "area  12.5\n"
     ]
    }
   ],
   "source": [
    "#Q6) write a program to calculate the area of triangle\n",
    "base=float(input(\"enter base: \"))\n",
    "height=float(input(\"enter height: \"))\n",
    "area = 0.5* base * height\n",
    "print(\"area of triangle: \",area)"
   ]
  },
  {
   "cell_type": "code",
   "execution_count": 14,
   "id": "d6850d90-9704-4d5a-9635-1f3f2b301938",
   "metadata": {},
   "outputs": [
    {
     "name": "stdin",
     "output_type": "stream",
     "text": [
      "enter length:  5\n",
      "enter breadth:  6\n"
     ]
    },
    {
     "name": "stdout",
     "output_type": "stream",
     "text": [
      "area of rectangle:  30.0\n"
     ]
    }
   ],
   "source": [
    "#Q7) write a program to calculate the area of rectangle\n",
    "length=float(input(\"enter length: \"))\n",
    "breadth=float(input(\"enter breadth: \"))\n",
    "area = length * breadth\n",
    "print(\"area of rectangle: \",area)"
   ]
  },
  {
   "cell_type": "code",
   "execution_count": 15,
   "id": "c6ba6c08-c3a1-4c10-aea9-7e6c1a165a97",
   "metadata": {},
   "outputs": [
    {
     "name": "stdin",
     "output_type": "stream",
     "text": [
      "enter the value of side:  5\n"
     ]
    },
    {
     "name": "stdout",
     "output_type": "stream",
     "text": [
      "area of square:  25.0\n"
     ]
    }
   ],
   "source": [
    "#Q8) write a program to calculate the area of square\n",
    "side=float(input(\"enter the value of side: \"))\n",
    "area = side * side\n",
    "print(\"area of square: \",area)"
   ]
  },
  {
   "cell_type": "code",
   "execution_count": null,
   "id": "fd654c37-5e09-4dbf-8c30-4c7668a37963",
   "metadata": {},
   "outputs": [],
   "source": []
  },
  {
   "cell_type": "code",
   "execution_count": null,
   "id": "d96b429b-26a8-4d08-8126-381f10f4ca33",
   "metadata": {},
   "outputs": [],
   "source": []
  },
  {
   "cell_type": "code",
   "execution_count": null,
   "id": "ce94925c-9a84-494d-81aa-f4f028e89b7d",
   "metadata": {},
   "outputs": [],
   "source": []
  },
  {
   "cell_type": "code",
   "execution_count": null,
   "id": "8030fce2-f084-48f9-bb0f-40aecd477609",
   "metadata": {},
   "outputs": [],
   "source": []
  },
  {
   "cell_type": "code",
   "execution_count": null,
   "id": "379ad8bf-1ea3-4d86-9265-9a6b9e871216",
   "metadata": {},
   "outputs": [],
   "source": []
  }
 ],
 "metadata": {
  "kernelspec": {
   "display_name": "Python 3 (ipykernel)",
   "language": "python",
   "name": "python3"
  },
  "language_info": {
   "codemirror_mode": {
    "name": "ipython",
    "version": 3
   },
   "file_extension": ".py",
   "mimetype": "text/x-python",
   "name": "python",
   "nbconvert_exporter": "python",
   "pygments_lexer": "ipython3",
   "version": "3.11.4"
  }
 },
 "nbformat": 4,
 "nbformat_minor": 5
}
